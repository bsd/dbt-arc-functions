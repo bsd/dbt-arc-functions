{
 "cells": [
  {
   "cell_type": "code",
   "execution_count": null,
   "id": "5de6d3e6",
   "metadata": {},
   "outputs": [],
   "source": [
    "import ruamel.yaml\n",
    "import os"
   ]
  },
  {
   "cell_type": "code",
   "execution_count": null,
   "id": "d221b676",
   "metadata": {},
   "outputs": [],
   "source": [
    "codegen_output = \"enter filepath for codegen output\""
   ]
  },
  {
   "cell_type": "code",
   "execution_count": null,
   "id": "7f61ad03",
   "metadata": {},
   "outputs": [],
   "source": [
    "yaml = ruamel.yaml.YAML()\n",
    "yaml.indent(mapping=4, sequence=4, offset=2)\n",
    "yaml.preserve_quotes = True\n",
    "with open(codegen_output, 'r') as f:\n",
    "    content = f.read()\n",
    "    codegen_yml = yaml.load(content)"
   ]
  },
  {
   "cell_type": "code",
   "execution_count": null,
   "id": "3f47ec26",
   "metadata": {},
   "outputs": [],
   "source": [
    "dict_of_models = {model['name']: model for model in codegen_yml['models']}"
   ]
  },
  {
   "cell_type": "code",
   "execution_count": null,
   "id": "184ef4f1",
   "metadata": {},
   "outputs": [],
   "source": [
    "for root,dirs, files in os.walk('../documentation/'):\n",
    "    for file in files:\n",
    "        name, extension = file.split('.')\n",
    "        if name in dict_of_models:\n",
    "            filepath = os.path.join(root,file)\n",
    "            with open(filepath, 'r') as f:\n",
    "                content = f.read()\n",
    "                file_yml = yaml.load(content)\n",
    "            file_yml['models'][0]['columns'] = dict_of_models[name]['columns']\n",
    "            with open(filepath, 'w') as f:\n",
    "                yaml.dump(file_yml,f)"
   ]
  }
 ],
 "metadata": {
  "kernelspec": {
   "display_name": ".dbtenv",
   "language": "python",
   "name": "python3"
  },
  "language_info": {
   "codemirror_mode": {
    "name": "ipython",
    "version": 3
   },
   "file_extension": ".py",
   "mimetype": "text/x-python",
   "name": "python",
   "nbconvert_exporter": "python",
   "pygments_lexer": "ipython3",
   "version": "3.9.13"
  },
  "vscode": {
   "interpreter": {
    "hash": "d22f9f4e9626a5f48ae626cb27a407f57bf544e2cb74d1a57dac270310da2f6b"
   }
  }
 },
 "nbformat": 4,
 "nbformat_minor": 5
}
