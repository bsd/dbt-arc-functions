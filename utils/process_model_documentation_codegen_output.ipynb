{
 "cells": [
  {
   "cell_type": "code",
   "execution_count": 16,
   "id": "5de6d3e6",
   "metadata": {},
   "outputs": [],
   "source": [
    "import ruamel.yaml\n",
    "import os"
   ]
  },
  {
   "cell_type": "code",
   "execution_count": 18,
   "id": "d221b676",
   "metadata": {},
   "outputs": [],
   "source": [
    "#enter filepath for codegen output\n",
    "codegen_output = \"/Users/frydaguedes/Projects/bsd-nyccfb/documentation/schema.yml\""
   ]
  },
  {
   "cell_type": "code",
   "execution_count": 22,
   "id": "7f61ad03",
   "metadata": {},
   "outputs": [],
   "source": [
    "yaml = ruamel.yaml.YAML()\n",
    "yaml.indent(mapping=4, sequence=4, offset=2)\n",
    "yaml.preserve_quotes = True\n",
    "with open(codegen_output, 'r') as f:\n",
    "    content = f.read()\n",
    "    codegen_yml = yaml.load(content)"
   ]
  },
  {
   "cell_type": "code",
   "execution_count": 23,
   "id": "3f47ec26",
   "metadata": {},
   "outputs": [],
   "source": [
    "dict_of_models = {model['name']: model for model in codegen_yml['models']}"
   ]
  },
  {
   "cell_type": "code",
   "execution_count": 24,
   "id": "184ef4f1",
   "metadata": {},
   "outputs": [
    {
     "name": "stdout",
     "output_type": "stream",
     "text": [
      "Error processing ../documentation/ga4_google_analytics_web/staging/stg_google_analytics_event_accordion_block.yml: 'NoneType' object is not subscriptable\n",
      "Error processing ../documentation/ga4_google_analytics_web/staging/stg_google_analytics_event_view_search_results.yml: 'NoneType' object is not subscriptable\n",
      "Error processing ../documentation/ga4_google_analytics_web/staging/stg_google_analytics_events_unioned_rollup.yml: 'NoneType' object is not subscriptable\n",
      "Error processing ../documentation/ga4_google_analytics_web/staging/stg_google_analytics_event_file_download.yml: 'NoneType' object is not subscriptable\n",
      "Error processing ../documentation/ga4_google_analytics_web/staging/stg_google_analytics_event_session_start.yml: 'NoneType' object is not subscriptable\n",
      "Error processing ../documentation/ga4_google_analytics_web/staging/stg_google_analytics_event_user_engagement.yml: 'NoneType' object is not subscriptable\n",
      "Error processing ../documentation/ga4_google_analytics_web/staging/stg_google_analytics_event_page_view.yml: 'NoneType' object is not subscriptable\n",
      "Error processing ../documentation/ga4_google_analytics_web/staging/stg_google_analytics_event_scroll.yml: 'NoneType' object is not subscriptable\n",
      "Error processing ../documentation/ga4_google_analytics_web/staging/stg_google_analytics_event_language_menu_expand.yml: 'NoneType' object is not subscriptable\n",
      "Error processing ../documentation/ga4_google_analytics_web/staging/stg_google_analytics_event_sub_menu.yml: 'NoneType' object is not subscriptable\n",
      "Error processing ../documentation/ga4_google_analytics_web/staging/stg_google_analytics_events.yml: 'NoneType' object is not subscriptable\n",
      "Error processing ../documentation/ga4_google_analytics_web/staging/stg_google_analytics_event_click.yml: 'NoneType' object is not subscriptable\n",
      "Error processing ../documentation/ga4_google_analytics_web/staging/stg_google_analytics_event_first_visit.yml: 'NoneType' object is not subscriptable\n",
      "Error processing ../documentation/ga4_google_analytics_web/staging/stg_google_analytics_events_unioned.yml: 'NoneType' object is not subscriptable\n",
      "Error processing ../documentation/ga4_google_analytics_web/marts/mart_google_analytics_web_performance_by_date.yml: 'NoneType' object is not subscriptable\n"
     ]
    }
   ],
   "source": [
    "for root,dirs, files in os.walk('../documentation/'):\n",
    "    for file in files:\n",
    "        name, extension = file.split('.')\n",
    "        if name in dict_of_models:\n",
    "            filepath = os.path.join(root,file)\n",
    "            try:\n",
    "                with open(filepath, 'r') as f:\n",
    "                    content = f.read()\n",
    "                    file_yml = yaml.load(content)\n",
    "                file_yml['models'][0]['columns'] = dict_of_models[name]['columns']\n",
    "                with open(filepath, 'w') as f:\n",
    "                    yaml.dump(file_yml,f)\n",
    "            except Exception as e:\n",
    "                print(f\"Error processing {filepath}: {e}\")"
   ]
  }
 ],
 "metadata": {
  "kernelspec": {
   "display_name": ".dbtenv",
   "language": "python",
   "name": "python3"
  },
  "language_info": {
   "codemirror_mode": {
    "name": "ipython",
    "version": 3
   },
   "file_extension": ".py",
   "mimetype": "text/x-python",
   "name": "python",
   "nbconvert_exporter": "python",
   "pygments_lexer": "ipython3",
   "version": "3.9.13"
  },
  "vscode": {
   "interpreter": {
    "hash": "d22f9f4e9626a5f48ae626cb27a407f57bf544e2cb74d1a57dac270310da2f6b"
   }
  }
 },
 "nbformat": 4,
 "nbformat_minor": 5
}
