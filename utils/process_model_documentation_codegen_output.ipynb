{
 "cells": [
  {
   "cell_type": "code",
   "execution_count": 16,
   "id": "5de6d3e6",
   "metadata": {},
   "outputs": [],
   "source": [
    "import ruamel.yaml\n",
    "import os"
   ]
  },
  {
   "cell_type": "code",
   "execution_count": 17,
   "id": "d221b676",
   "metadata": {},
   "outputs": [],
   "source": [
    "#enter filepath for codegen output\n",
    "codegen_output = \"/Users/frydaguedes/Projects/bsd-nyccfb/documentation/schema.yml\""
   ]
  },
  {
   "cell_type": "code",
   "execution_count": 13,
   "id": "7f61ad03",
   "metadata": {},
   "outputs": [],
   "source": [
    "yaml = ruamel.yaml.YAML()\n",
    "yaml.indent(mapping=4, sequence=4, offset=2)\n",
    "yaml.preserve_quotes = True\n",
    "with open(codegen_output, 'r') as f:\n",
    "    content = f.read()\n",
    "    codegen_yml = yaml.load(content)"
   ]
  },
  {
   "cell_type": "code",
   "execution_count": 14,
   "id": "3f47ec26",
   "metadata": {},
   "outputs": [],
   "source": [
    "dict_of_models = {model['name']: model for model in codegen_yml['models']}"
   ]
  },
  {
   "cell_type": "code",
   "execution_count": 15,
   "id": "184ef4f1",
   "metadata": {},
   "outputs": [
    {
     "ename": "TypeError",
     "evalue": "'NoneType' object is not subscriptable",
     "output_type": "error",
     "traceback": [
      "\u001b[0;31m---------------------------------------------------------------------------\u001b[0m",
      "\u001b[0;31mTypeError\u001b[0m                                 Traceback (most recent call last)",
      "Cell \u001b[0;32mIn[15], line 9\u001b[0m\n\u001b[1;32m      7\u001b[0m     content \u001b[39m=\u001b[39m f\u001b[39m.\u001b[39mread()\n\u001b[1;32m      8\u001b[0m     file_yml \u001b[39m=\u001b[39m yaml\u001b[39m.\u001b[39mload(content)\n\u001b[0;32m----> 9\u001b[0m file_yml[\u001b[39m'\u001b[39;49m\u001b[39mmodels\u001b[39;49m\u001b[39m'\u001b[39;49m][\u001b[39m0\u001b[39m][\u001b[39m'\u001b[39m\u001b[39mcolumns\u001b[39m\u001b[39m'\u001b[39m] \u001b[39m=\u001b[39m dict_of_models[name][\u001b[39m'\u001b[39m\u001b[39mcolumns\u001b[39m\u001b[39m'\u001b[39m]\n\u001b[1;32m     10\u001b[0m \u001b[39mwith\u001b[39;00m \u001b[39mopen\u001b[39m(filepath, \u001b[39m'\u001b[39m\u001b[39mw\u001b[39m\u001b[39m'\u001b[39m) \u001b[39mas\u001b[39;00m f:\n\u001b[1;32m     11\u001b[0m     yaml\u001b[39m.\u001b[39mdump(file_yml,f)\n",
      "\u001b[0;31mTypeError\u001b[0m: 'NoneType' object is not subscriptable"
     ]
    }
   ],
   "source": [
    "for root,dirs, files in os.walk('../documentation/'):\n",
    "    for file in files:\n",
    "        name, extension = file.split('.')\n",
    "        if name in dict_of_models:\n",
    "            filepath = os.path.join(root,file)\n",
    "            try:\n",
    "                with open(filepath, 'r') as f:\n",
    "                    content = f.read()\n",
    "                    file_yml = yaml.load(content)\n",
    "                file_yml['models'][0]['columns'] = dict_of_models[name]['columns']\n",
    "                with open(filepath, 'w') as f:\n",
    "                    yaml.dump(file_yml,f)\n",
    "            except Exception as e:\n",
    "                print(f\"Error processing {filepath}: {e}\")"
   ]
  }
 ],
 "metadata": {
  "kernelspec": {
   "display_name": ".dbtenv",
   "language": "python",
   "name": "python3"
  },
  "language_info": {
   "codemirror_mode": {
    "name": "ipython",
    "version": 3
   },
   "file_extension": ".py",
   "mimetype": "text/x-python",
   "name": "python",
   "nbconvert_exporter": "python",
   "pygments_lexer": "ipython3",
   "version": "3.9.13"
  },
  "vscode": {
   "interpreter": {
    "hash": "d22f9f4e9626a5f48ae626cb27a407f57bf544e2cb74d1a57dac270310da2f6b"
   }
  }
 },
 "nbformat": 4,
 "nbformat_minor": 5
}
