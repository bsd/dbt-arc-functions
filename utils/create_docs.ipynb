{
 "cells": [
  {
   "cell_type": "markdown",
   "metadata": {},
   "source": [
    "PREREQUISITES:\n",
    "* You must have dbt installed.\n",
    "* The working/client dbt deployment must be using the `dbt-codegen` package, see install instructions here: https://github.com/dbt-labs/dbt-codegen\n",
    "\n",
    "You'll need to specify the following inputs for this notebook:\n",
    "* `WORKING_FOLDER_WITH_DBT_ARC_FUNCTION_MODELS`: ABSOLUTE PATH. this is probably a client folder. It contains models that invoke the dbt_arc_functions macros that you'd like to document. For instance, if I wanted to document the `stitch_sfmc_email`'s `staging` macros, I'd find a client that uses that connector, find the folder that uses those macros, and enter its absolute path here. \n",
    "* `DBT_ARC_FUNCTIONS_MACRO_DOCUMENTATION_FOLDER`: ABSOLUTE PATH. this is a folder within dbt-arc-functions. It is within the documentation folder and specifies which macro you're trying to document. To take the above example, we're trying to document the `stich_sfmc_email`'s `staging` macros. Therefore your path would look something like `/Users/user/Desktop/dbt-arc-functions/documentation/stitch_sfmc_email/staging`."
   ]
  },
  {
   "cell_type": "code",
   "execution_count": 1,
   "metadata": {},
   "outputs": [],
   "source": [
    "WORKING_FOLDER_WITH_DBT_ARC_FUNCTION_MODELS= \"REPLACE WITH WORKING CLIENT FOLDER\"\n",
    "DBT_ARC_FUNCTIONS_MACRO_DOCUMENTATION_FOLDER= \"REPLACE WITH DBT ARC FUNCTIONS MACRO FOLDER\""
   ]
  },
  {
   "cell_type": "code",
   "execution_count": 2,
   "metadata": {},
   "outputs": [],
   "source": [
    "import os\n",
    "import shutil\n",
    "import ruamel.yaml\n",
    "import subprocess\n",
    "from utils import check_dbt_installed, check_profiles_file, run_dbt_subprocess"
   ]
  },
  {
   "cell_type": "code",
   "execution_count": 3,
   "metadata": {},
   "outputs": [
    {
     "name": "stdout",
     "output_type": "stream",
     "text": [
      "Checking if dbt installed...\n",
      "\n",
      "Checking if you have a profiles.yml in the .dbt folder...\n",
      "\n",
      "Installing dbt deps...\n",
      "\n",
      "Looping through files in /Users/tim/Desktop/arc-mercycorps-dbt/models/staging/email...\n",
      "\n",
      "Working on: stg_email_complaints_rollup_unioned.sql\n",
      "Working on: stg_email_actions_rollup_unioned.sql\n",
      "Working on: stg_email_opens_rollup_unioned.sql\n",
      "Working on: stg_email_campaign_dates_rollup_unioned.sql\n",
      "Working on: stg_email_transactions_sourced_rollup_unioned.sql\n",
      "Working on: stg_email_clicks_rollup_unioned.sql\n",
      "Working on: stg_email_bounces_rollup_unioned.sql\n",
      "Working on: stg_email_recipients_rollup_unioned.sql\n",
      "Working on: stg_email_campaigns_rollup_unioned.sql\n",
      "Working on: stg_email_unsubscribes_rollup_unioned.sql\n",
      "Working on: stg_email_jobs_unioned.sql\n"
     ]
    }
   ],
   "source": [
    "\n",
    "print(\"Checking if dbt installed...\\n\")\n",
    "check_dbt_installed()\n",
    "print(\"Checking if you have a profiles.yml in the .dbt folder...\\n\")\n",
    "check_profiles_file()\n",
    "print(\"Installing dbt deps...\\n\")\n",
    "process = subprocess.run(\n",
    "        f\"cd {WORKING_FOLDER_WITH_DBT_ARC_FUNCTION_MODELS} ;dbt deps\",\n",
    "        capture_output=True,\n",
    "        shell=True,\n",
    "        check=False)\n",
    "print(f\"Looping through files in {WORKING_FOLDER_WITH_DBT_ARC_FUNCTION_MODELS}...\\n\")\n",
    "for file in os.listdir(WORKING_FOLDER_WITH_DBT_ARC_FUNCTION_MODELS):\n",
    "    if file.endswith('.sql'):\n",
    "        print(f\"Working on: {file}\")\n",
    "        doc_file = file.replace('.sql','.yml')\n",
    "        doc_path = os.path.join(DBT_ARC_FUNCTIONS_MACRO_DOCUMENTATION_FOLDER, doc_file)\n",
    "        if not os.path.exists(doc_path):\n",
    "            model = file[:-4]\n",
    "            bash_command = (f\"cd {WORKING_FOLDER_WITH_DBT_ARC_FUNCTION_MODELS} ; \"\n",
    "                            f\"\"\"dbt run-operation generate_model_yaml --args '{{\"model_names\": [\"{model}\"], \"upstream_descriptions\": true}}'\"\"\"\n",
    "            )\n",
    "            output = run_dbt_subprocess(bash_command)\n",
    "            index_of_version = output.find('version')\n",
    "            cleaned_output = output[index_of_version:]\n",
    "            with open(doc_path, 'w') as f:\n",
    "                f.write(cleaned_output)\n",
    "            print(f\"Wrote to {doc_path}!\\n\")\n",
    "        else:\n",
    "            print(f\"{doc_path} already exists, will not overwrite\\n\")"
   ]
  },
  {
   "cell_type": "code",
   "execution_count": null,
   "metadata": {},
   "outputs": [],
   "source": []
  },
  {
   "cell_type": "code",
   "execution_count": null,
   "metadata": {},
   "outputs": [],
   "source": []
  }
 ],
 "metadata": {
  "kernelspec": {
   "display_name": "Python 3 (ipykernel)",
   "language": "python",
   "name": "python3"
  },
  "language_info": {
   "codemirror_mode": {
    "name": "ipython",
    "version": 3
   },
   "file_extension": ".py",
   "mimetype": "text/x-python",
   "name": "python",
   "nbconvert_exporter": "python",
   "pygments_lexer": "ipython3",
   "version": "3.8.12"
  }
 },
 "nbformat": 4,
 "nbformat_minor": 2
}
