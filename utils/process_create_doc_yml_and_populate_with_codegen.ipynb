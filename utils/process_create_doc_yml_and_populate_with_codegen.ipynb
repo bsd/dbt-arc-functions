{
 "cells": [
  {
   "attachments": {},
   "cell_type": "markdown",
   "metadata": {},
   "source": [
    "This notebook has the following components\n",
    "1. It creates a YML file for each of the files in the macros directory you specify. Simplifying the process of copying over your macros to the docs site.\n",
    "2. It takes the codegen output that you copied into a schema.yml file in your client project and populates the YML files with their corresponding codegen output. "
   ]
  },
  {
   "cell_type": "code",
   "execution_count": 2,
   "metadata": {},
   "outputs": [],
   "source": [
    "import os\n",
    "import shutil\n",
    "import ruamel.yaml"
   ]
  },
  {
   "cell_type": "code",
   "execution_count": null,
   "metadata": {},
   "outputs": [],
   "source": [
    "macros_dir = '/path/to/sql/files' #this is the folder where your new macros models are\n",
    "docs_dir = '/path/to/yml/files' #this is the folder where your new yml files will be created"
   ]
  },
  {
   "cell_type": "code",
   "execution_count": null,
   "metadata": {},
   "outputs": [],
   "source": [
    "# Iterate over all files in the source directory\n",
    "for filename in os.listdir(macros_dir):\n",
    "    if filename.endswith('.sql'):\n",
    "        # Create a new filename with a .yml extension\n",
    "        new_filename = f'{os.path.splitext(filename)[0]}.yml'\n",
    "\n",
    "        # Create a new empty file with the new filename in the destination directory\n",
    "        with open(os.path.join(docs_dir, new_filename), 'w'):\n",
    "            pass\n",
    "\n",
    "        # Copy the .sql file to the destination directory with the new filename and extension\n",
    "        shutil.copy2(os.path.join(macros_dir, filename),\n",
    "                     os.path.join(macros_dir, new_filename))"
   ]
  },
  {
   "attachments": {},
   "cell_type": "markdown",
   "metadata": {},
   "source": [
    "PAUSE! Before you run the following cells, you need to do the following:\n",
    "1. Go to your client project and run `dbt run-operation generate_model_yml --args '{\"model_name\": \"model_name\"}'` for all of your models. \n",
    "2. Copy the output to a schema.yml file in your client project."
   ]
  },
  {
   "cell_type": "code",
   "execution_count": 1,
   "metadata": {},
   "outputs": [],
   "source": [
    "#enter filepath for codegen output\n",
    "codegen_output = \"/Users/frydaguedes/Projects/bsd-nyccfb/documentation/schema.yml\""
   ]
  },
  {
   "cell_type": "code",
   "execution_count": 3,
   "metadata": {},
   "outputs": [],
   "source": [
    "yaml = ruamel.yaml.YAML()\n",
    "yaml.indent(mapping=4, sequence=4, offset=2)\n",
    "yaml.preserve_quotes = True\n",
    "with open(codegen_output, 'r') as f:\n",
    "    content = f.read()\n",
    "    codegen_yml = yaml.load(content)"
   ]
  },
  {
   "cell_type": "code",
   "execution_count": 4,
   "metadata": {},
   "outputs": [],
   "source": [
    "dict_of_models = {model['name']: model for model in codegen_yml['models']}"
   ]
  },
  {
   "cell_type": "code",
   "execution_count": 5,
   "metadata": {},
   "outputs": [],
   "source": [
    "for root, dirs, files in os.walk('../documentation/'):\n",
    "    for file in files:\n",
    "        name, extension = os.path.splitext(file)\n",
    "        if extension == '.yml' and name in dict_of_models:\n",
    "            filepath = os.path.join(root, file)\n",
    "            try:\n",
    "                file_yml = ruamel.yaml.comments.CommentedMap()\n",
    "                model = dict_of_models[name]\n",
    "                file_yml['models'] = [model]\n",
    "                with open(filepath, 'w') as f:\n",
    "                    yaml.dump(file_yml, f)\n",
    "            except Exception as e:\n",
    "                print(f\"Error processing file {filepath}: {e}\")"
   ]
  }
 ],
 "metadata": {
  "kernelspec": {
   "display_name": ".dbtenv",
   "language": "python",
   "name": "python3"
  },
  "language_info": {
   "codemirror_mode": {
    "name": "ipython",
    "version": 3
   },
   "file_extension": ".py",
   "mimetype": "text/x-python",
   "name": "python",
   "nbconvert_exporter": "python",
   "pygments_lexer": "ipython3",
   "version": "3.9.13"
  },
  "orig_nbformat": 4
 },
 "nbformat": 4,
 "nbformat_minor": 2
}
