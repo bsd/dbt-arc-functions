{
 "cells": [
  {
   "cell_type": "code",
   "execution_count": 2,
   "id": "7c60861e",
   "metadata": {},
   "outputs": [],
   "source": [
    "import ruamel.yaml\n",
    "import os"
   ]
  },
  {
   "cell_type": "code",
   "execution_count": 3,
   "id": "680e6ae4",
   "metadata": {},
   "outputs": [],
   "source": [
    "yaml = ruamel.yaml.YAML()\n",
    "yaml.indent(mapping=4, sequence=4, offset=2)\n",
    "yaml.preserve_quotes = True"
   ]
  },
  {
   "cell_type": "code",
   "execution_count": 4,
   "id": "975ea470",
   "metadata": {},
   "outputs": [],
   "source": [
    "with open('../../arc-standard-dashboard-dbt-fake-data-generator/.github/workflows/dbt_run_on_merge.yml','r') as f:\n",
    "    content = f.read()\n",
    "    workflow_yml = yaml.load(content)"
   ]
  },
  {
   "cell_type": "code",
   "execution_count": 5,
   "id": "6e4bd621",
   "metadata": {},
   "outputs": [
    {
     "name": "stdout",
     "output_type": "stream",
     "text": [
      "{   'jobs': {   'dbt_run': {   'runs-on': 'ubuntu-latest',\n",
      "                               'steps': [ordereddict([('name', 'Run dbt cloud job'), ('run', 'RESPONSE=$(curl -v -H \"Authorization:Token ${{ secrets.DBTCLOUDAPIKEY }}\" -H \"Content-Type:application/json\" -d \\'{\"cause\":\"Triggered by Github Actions\",\"git_branch\":\"main\"}\\' https://cloud.getdbt.com/api/v2/accounts/1713/jobs/121379/run/)\\nSTATUSCODE=$(echo \"$RESPONSE\" | jq \\'.status.code\\')\\necho \"$RESPONSE\" | jq \\'.status.user_message\\'\\nif [[ $STATUSCODE != 200 ]]; then echo \"$RESPONSE\" && bash -c \"exit 1\"; fi\\n')])]}},\n",
      "    'name': 'Trigger dbt cloud job to prep views and build docs',\n",
      "    'on': ordereddict([('push', ordereddict([('branches', ['main'])]))])}\n"
     ]
    }
   ],
   "source": [
    "import pprint\n",
    "pp = pprint.PrettyPrinter(indent=4)\n",
    "pp.pprint(workflow_yml)"
   ]
  },
  {
   "cell_type": "code",
   "execution_count": 7,
   "id": "3b33d803",
   "metadata": {},
   "outputs": [
    {
     "name": "stdout",
     "output_type": "stream",
     "text": [
      "What is the name of your github repo? Make sure to include the prepend bsd/ if this is a Blue State repo!bsd/arc-standard-dashboard-dbt-fake-data-generator\n"
     ]
    }
   ],
   "source": [
    "github_repo = input(\"What is the name of your Github repo? \"\n",
    "                    \"Make sure to include the prepend bsd/ if this is a Blue State repo!\\n\")"
   ]
  },
  {
   "cell_type": "code",
   "execution_count": 8,
   "id": "13a7055c",
   "metadata": {},
   "outputs": [],
   "source": [
    "starting_prompt = \"\"\"You'll need to do some setup to have this util run.\n",
    "\n",
    "First, you'll need to have a working dbt Github Repo.\n",
    "\n",
    "Second, you'll need to have a dbtCloud project set up.\n",
    "If you've never done this before, it's worth talking to an engineer.\n",
    "Here are the docs if you'd like to try on your own:\n",
    "https://docs.getdbt.com/docs/get-started/getting-started/set-up-dbt-cloud\n",
    "\n",
    "Third, you need to set up an environment in dbt Cloud. Here are docs:\n",
    "https://docs.getdbt.com/docs/get-started/getting-started/building-your-first-project/schedule-a-job#create-a-deployment-environment\n",
    "\n",
    "Fourth, you need to create a job in dbt Cloud. Here are docs:\n",
    "https://docs.getdbt.com/docs/get-started/getting-started/building-your-first-project/schedule-a-job#create-and-run-a-job\n",
    "\n",
    "Finally, you'll need your dbt Cloud API key.\n",
    "You can find it at the bottom of this page:\n",
    "https://cloud.getdbt.com/next/settings/profile\n",
    "\"\"\""
   ]
  },
  {
   "cell_type": "code",
   "execution_count": null,
   "id": "3f5853fe",
   "metadata": {},
   "outputs": [],
   "source": []
  }
 ],
 "metadata": {
  "kernelspec": {
   "display_name": "Python 3 (ipykernel)",
   "language": "python",
   "name": "python3"
  },
  "language_info": {
   "codemirror_mode": {
    "name": "ipython",
    "version": 3
   },
   "file_extension": ".py",
   "mimetype": "text/x-python",
   "name": "python",
   "nbconvert_exporter": "python",
   "pygments_lexer": "ipython3",
   "version": "3.8.12"
  }
 },
 "nbformat": 4,
 "nbformat_minor": 5
}
