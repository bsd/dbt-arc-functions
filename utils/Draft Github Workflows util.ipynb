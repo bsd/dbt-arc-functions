{
 "cells": [
  {
   "cell_type": "code",
   "execution_count": 1,
   "id": "7c60861e",
   "metadata": {},
   "outputs": [],
   "source": [
    "import ruamel.yaml\n",
    "import os\n",
    "import re"
   ]
  },
  {
   "cell_type": "code",
   "execution_count": null,
   "id": "62a97b53",
   "metadata": {},
   "outputs": [],
   "source": [
    "dbt_base_path = ''\n",
    "if not dbt_base_path:\n",
    "    dbt_base_path = get_destination()"
   ]
  },
  {
   "cell_type": "code",
   "execution_count": 2,
   "id": "7e4dfbc9",
   "metadata": {},
   "outputs": [],
   "source": [
    "dbt_base_path = \"/Users/tim/Desktop/arc-mercycorps-dbt\""
   ]
  },
  {
   "cell_type": "code",
   "execution_count": 3,
   "id": "680e6ae4",
   "metadata": {},
   "outputs": [],
   "source": [
    "yaml = ruamel.yaml.YAML()\n",
    "yaml.indent(mapping=4, sequence=4, offset=2)\n",
    "yaml.preserve_quotes = True"
   ]
  },
  {
   "cell_type": "code",
   "execution_count": 4,
   "id": "975ea470",
   "metadata": {},
   "outputs": [],
   "source": [
    "with open('../../arc-standard-dashboard-dbt-fake-data-generator/.github/workflows/dbt_run_on_merge.yml','r') as f:\n",
    "    content = f.read()\n",
    "    workflow_yml = yaml.load(content)"
   ]
  },
  {
   "cell_type": "code",
   "execution_count": 5,
   "id": "13a7055c",
   "metadata": {},
   "outputs": [],
   "source": [
    "starting_prompt = \"\"\"You'll need to do some setup to have this util run.\n",
    "\n",
    "First, you'll need to have a working dbt Github Repo.\n",
    "\n",
    "Second, you'll need to have a dbtCloud project set up.\n",
    "If you've never done this before, it's worth talking to an engineer.\n",
    "Here are the docs if you'd like to try on your own:\n",
    "https://docs.getdbt.com/docs/get-started/getting-started/set-up-dbt-cloud\n",
    "\n",
    "Third, you need to set up an environment in dbt Cloud. Here are docs:\n",
    "https://docs.getdbt.com/docs/get-started/getting-started/building-your-first-project/schedule-a-job#create-a-deployment-environment\n",
    "\n",
    "Fourth, you need to create a job in dbt Cloud. Here are docs:\n",
    "https://docs.getdbt.com/docs/get-started/getting-started/building-your-first-project/schedule-a-job#create-and-run-a-job\n",
    "\n",
    "Finally, you'll need your dbt Cloud API key.\n",
    "You can find it at the bottom of this page:\n",
    "https://cloud.getdbt.com/next/settings/profile\n",
    "\"\"\""
   ]
  },
  {
   "cell_type": "code",
   "execution_count": 6,
   "id": "3f5853fe",
   "metadata": {},
   "outputs": [
    {
     "name": "stdout",
     "output_type": "stream",
     "text": [
      "Please add a secret to your dbt repo with the name DBTCLOUDAPIKEY\n",
      "Instructions on how to do this below:\n",
      "https://docs.github.com/en/codespaces/managing-codespaces-for-your-organization/managing-encrypted-secrets-for-your-repository-and-organization-for-github-codespaces\n",
      "\n"
     ]
    }
   ],
   "source": [
    "check_api_added_to_secrets = input(\"\"\"Please add a secret to your dbt repo with the name DBTCLOUDAPIKEY\n",
    "Instructions on how to do this below:\n",
    "https://docs.github.com/en/codespaces/managing-codespaces-for-your-organization/managing-encrypted-secrets-for-your-repository-and-organization-for-github-codespaces\n",
    "\"\"\")"
   ]
  },
  {
   "cell_type": "code",
   "execution_count": 7,
   "id": "38b406e7",
   "metadata": {},
   "outputs": [
    {
     "name": "stdout",
     "output_type": "stream",
     "text": [
      "Now please go to your cloud job in dbt Cloud, copy the URL, and paste it here.\n",
      "It should look something like this: https://cloud.getdbt.com/next/deploy/1713/projects/150080/jobs/121379\n",
      "https://cloud.getdbt.com/next/deploy/1713/projects/150080/jobs/121379\n"
     ]
    }
   ],
   "source": [
    "dbt_cloud_job_url = input(\"\"\"Now please go to your cloud job in dbt Cloud, copy the URL, and paste it here.\n",
    "It should look something like this: https://cloud.getdbt.com/next/deploy/1713/projects/150080/jobs/121379\n",
    "\"\"\")"
   ]
  },
  {
   "cell_type": "code",
   "execution_count": 8,
   "id": "126bd31b",
   "metadata": {},
   "outputs": [],
   "source": [
    "dbt_cloud_api_run_url = re.sub(\"projects/d+/\",\n",
    "                               \"\",\n",
    "                               dbt_cloud_job_url.replace(\"next/deploy/\",\"api/v2/accounts/\")\n",
    "                              )+\"/run/\""
   ]
  },
  {
   "cell_type": "code",
   "execution_count": 9,
   "id": "c665de1b",
   "metadata": {},
   "outputs": [
    {
     "data": {
      "text/plain": [
       "'RESPONSE=$(curl -v -H \"Authorization:Token ${{ secrets.DBTCLOUDAPIKEY }}\" -H \"Content-Type:application/json\" -d \\'{\"cause\":\"Triggered by Github Actions\",\"git_branch\":\"main\"}\\' https://cloud.getdbt.com/api/v2/accounts/1713/jobs/121379/run/)\\nSTATUSCODE=$(echo \"$RESPONSE\" | jq \\'.status.code\\')\\necho \"$RESPONSE\" | jq \\'.status.user_message\\'\\nif [[ $STATUSCODE != 200 ]]; then echo \"$RESPONSE\" && bash -c \"exit 1\"; fi\\n'"
      ]
     },
     "execution_count": 9,
     "metadata": {},
     "output_type": "execute_result"
    }
   ],
   "source": [
    "workflow_yml['jobs']['dbt_run']['steps'][0]['run'].replace('{dbt_cloud_api_run_url}',dbt_cloud_api_run_url)"
   ]
  },
  {
   "cell_type": "code",
   "execution_count": 12,
   "id": "7852b4bf",
   "metadata": {},
   "outputs": [],
   "source": [
    "github_folder_path = os.path.join(dbt_base_path,\".github\")\n",
    "if not os.path.exists(github_folder_path):\n",
    "    os.mkdir(github_folder_path)\n",
    "workflow_folder_path = os.path.join(github_folder_path,\"workflows\")\n",
    "if not os.path.exists(workflow_folder_path):\n",
    "    os.mkdir(workflow_folder_path)\n",
    "workflow_path = os.path.join(workflow_folder_path,\"dbt_run_on_merge.yml\")"
   ]
  },
  {
   "cell_type": "code",
   "execution_count": 13,
   "id": "e402cbdd",
   "metadata": {},
   "outputs": [],
   "source": [
    "with open(workflow_path, \"w\") as f:\n",
    "    yaml.dump(workflow_path, f)"
   ]
  }
 ],
 "metadata": {
  "kernelspec": {
   "display_name": "Python 3 (ipykernel)",
   "language": "python",
   "name": "python3"
  },
  "language_info": {
   "codemirror_mode": {
    "name": "ipython",
    "version": 3
   },
   "file_extension": ".py",
   "mimetype": "text/x-python",
   "name": "python",
   "nbconvert_exporter": "python",
   "pygments_lexer": "ipython3",
   "version": "3.8.12"
  }
 },
 "nbformat": 4,
 "nbformat_minor": 5
}
