{
 "cells": [
  {
   "cell_type": "markdown",
   "id": "f26920f7",
   "metadata": {},
   "source": [
    "# How to use this notebook\n",
    "\n",
    "This notebook is meant to be run in a VertexAI Workbench. Here's how to start a VertexAI Workbench notebook:\n",
    "https://bluestate.atlassian.net/wiki/spaces/ATeam/pages/2983624708/How+to+start+a+VertexAI+Workbench\n",
    "\n",
    "You'll need to clone this notebook into VertexAI. Here's how to clone in Vertex AI:\n",
    "https://cloud.google.com/vertex-ai/docs/workbench/user-managed/save-to-github#:~:text=In%20your%20GitHub%20repository%2C%20click,Click%20the%20Git%20clone%20button.\n",
    "\n",
    "Finally, you'll need to grant this project the right to access `bsd-stitch`. Here's how to do that:\n",
    "https://bluestate.atlassian.net/wiki/spaces/ATeam/pages/2983624741/Access+Stitch+data+from+another+project\n",
    "\n",
    "Now you should be able to run this notebook successfully from VertexAI!"
   ]
  },
  {
   "cell_type": "code",
   "execution_count": null,
   "id": "fb29b5e9-c78e-4436-826f-58b058a1f095",
   "metadata": {},
   "outputs": [],
   "source": [
    "import os\n",
    "\n",
    "PROJECT_ID = \"[your-project-id]\" \n",
    "if PROJECT_ID == \"\" or PROJECT_ID is None or PROJECT_ID == \"[your-project-id]\":\n",
    "    # Get your GCP project id from gcloud\n",
    "    shell_output = ! gcloud config list --format 'value(core.project)' 2>/dev/null\n",
    "    PROJECT_ID = shell_output[0]\n",
    "    print(\"Project ID:\", PROJECT_ID)"
   ]
  },
  {
   "cell_type": "code",
   "execution_count": null,
   "id": "b3dfdec1-e10d-4279-a174-19f403f803cb",
   "metadata": {},
   "outputs": [],
   "source": [
    "search_statement = PROJECT_ID\n",
    "if search_statement.startswith('bsd-'):\n",
    "    remove_bsd=input('Your project_id starts with bsd-, can I remove that to find schemas that contain only the client code? (only accepts \"yes\")')\n",
    "    if remove_bsd=='yes':\n",
    "                     search_statement=search_statement[4:]"
   ]
  },
  {
   "cell_type": "code",
   "execution_count": null,
   "id": "c22d07c8-2bbc-4dc5-9858-d2d254d3d83b",
   "metadata": {},
   "outputs": [],
   "source": [
    "print(search_statement)"
   ]
  },
  {
   "cell_type": "code",
   "execution_count": null,
   "id": "0ab25f92-5a93-439b-b7c8-443a57c50f59",
   "metadata": {},
   "outputs": [],
   "source": [
    "from time import sleep\n",
    "from google.cloud import bigquery\n",
    "\n",
    "# Construct a BigQuery client object.\n",
    "stitch_client = bigquery.Client('bsd-stitch')\n",
    "current_project_client = bigquery.Client()\n",
    "\n",
    "if datasets := list(stitch_client.list_datasets()):\n",
    "    for dataset in datasets:\n",
    "        dataset_id = dataset.dataset_id\n",
    "        if search_statement in dataset_id:\n",
    "            copy_dataset = input(f'Should I create a set of views based on {dataset_id}? (only accepts \"yes\")')\n",
    "            if copy_dataset == 'yes':\n",
    "                project_dataset = f\"{PROJECT_ID}.src_stitch_{dataset_id}\"\n",
    "                dataset = bigquery.Dataset(project_dataset)\n",
    "\n",
    "                # TODO(developer): Specify the geographic location where the dataset should reside.\n",
    "                dataset.location = \"US\"\n",
    "\n",
    "                # Send the dataset to the API for creation, with an explicit timeout.\n",
    "                # Raises google.api_core.exceptions.Conflict if the Dataset already\n",
    "                # exists within the project.\n",
    "                try:\n",
    "                    dataset = current_project_client.create_dataset(dataset, timeout=30)\n",
    "                except Exception:\n",
    "                    print(\"dataset already exists\")\n",
    "                tables = stitch_client.list_tables(dataset_id)\n",
    "                qs=[]\n",
    "                for table in tables:\n",
    "                    clone_table_statement=f\"\"\"\n",
    "                        CREATE OR REPLACE VIEW\n",
    "                          {project_dataset}.{table.table_id}\n",
    "                          AS SELECT * FROM bsd-stitch.{dataset_id}.{table.table_id}\n",
    "                        \"\"\"\n",
    "                    qs.append(current_project_client.query(clone_table_statement))\n",
    "                    print(f\"Started cloning to bsd-stitch.{dataset_id}.{table.table_id}\\n\")\n",
    "                num_queries = len(qs)\n",
    "                num_complete = sum(q.running()==False for q in qs)\n",
    "                while num_complete < num_queries:\n",
    "                    print(f\"{num_complete} out of {num_queries} completed!\")\n",
    "                    sleep(10)\n",
    "                    num_complete = sum(q.running()==False for q in qs)\n",
    "                print(f\"\\nFinished {dataset_id}!\")\n",
    "        "
   ]
  },
  {
   "cell_type": "code",
   "execution_count": null,
   "id": "ffb8508f-a760-4174-b890-d17bca36707f",
   "metadata": {},
   "outputs": [],
   "source": []
  }
 ],
 "metadata": {
  "environment": {
   "kernel": "python3",
   "name": "common-cpu.m93",
   "type": "gcloud",
   "uri": "gcr.io/deeplearning-platform-release/base-cpu:m93"
  },
  "kernelspec": {
   "display_name": ".dbtenv",
   "language": "python",
   "name": "python3"
  },
  "language_info": {
   "codemirror_mode": {
    "name": "ipython",
    "version": 3
   },
   "file_extension": ".py",
   "mimetype": "text/x-python",
   "name": "python",
   "nbconvert_exporter": "python",
   "pygments_lexer": "ipython3",
   "version": "3.9.13"
  },
  "vscode": {
   "interpreter": {
    "hash": "d22f9f4e9626a5f48ae626cb27a407f57bf544e2cb74d1a57dac270310da2f6b"
   }
  }
 },
 "nbformat": 4,
 "nbformat_minor": 5
}
