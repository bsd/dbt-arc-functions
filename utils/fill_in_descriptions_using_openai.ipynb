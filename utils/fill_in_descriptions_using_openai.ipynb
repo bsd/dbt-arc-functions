{
 "cells": [
  {
   "cell_type": "code",
   "execution_count": 1,
   "id": "c8c2d1cf",
   "metadata": {},
   "outputs": [],
   "source": [
    "import os\n",
    "import yaml\n",
    "import time\n",
    "import openai\n",
    "import tiktoken\n",
    "\n",
    "from openai.error import RateLimitError"
   ]
  },
  {
   "cell_type": "code",
   "execution_count": 2,
   "id": "03eeb4df",
   "metadata": {},
   "outputs": [],
   "source": [
    "openai.api_key = os.environ.get('OPENAI_API_KEY')"
   ]
  },
  {
   "cell_type": "code",
   "execution_count": 3,
   "id": "7fea701a",
   "metadata": {},
   "outputs": [
    {
     "name": "stdout",
     "output_type": "stream",
     "text": [
      "What model should I use? Options are: gpt-3.5-turbo, gpt-4, gpt-4-32k\n",
      " each is more expensive than the last.\n",
      "gpt-3.5-turbo\n"
     ]
    }
   ],
   "source": [
    "model = input('What model should I use? Options are: gpt-3.5-turbo, gpt-4, gpt-4-32k\\n each is more expensive than the last.\\n')"
   ]
  },
  {
   "cell_type": "code",
   "execution_count": 4,
   "id": "8b78c2d9",
   "metadata": {},
   "outputs": [],
   "source": [
    "model_theoretical_max_tokens = {\n",
    "    'gpt-3.5-turbo': 4096,\n",
    "    'gpt-4': 8192,\n",
    "    'gpt-4-32k': 32768\n",
    "}"
   ]
  },
  {
   "cell_type": "code",
   "execution_count": 5,
   "id": "fcf1f19c",
   "metadata": {},
   "outputs": [],
   "source": [
    "def fill_in_description(file_path):\n",
    "    with open(file_path) as f:\n",
    "        content = f.read()\n",
    "    prompt=f\"The following YAML has missing descriptions. Please fill in the missing descriptions and return only the YAML:\\n\\n{content}\"\n",
    "    encoding = tiktoken.encoding_for_model(model)\n",
    "    prompt_length = len(encoding.encode(prompt))\n",
    "    theoretical_max_tokens = model_theoretical_max_tokens[model] \n",
    "    practical_max_tokens = model_theoretical_max_tokens[model] - prompt_length\n",
    "    print(f\"file is {prompt_length} tokens long\")\n",
    "    if prompt_length * 2 > practical_max_tokens:\n",
    "        return 'length'\n",
    "    max_tokens = prompt_length * 2\n",
    "    response = openai.ChatCompletion.create(model=model,\n",
    "                                            messages=[\n",
    "                                                {\"role\": \"user\",\n",
    "                                                 \"content\": prompt}],\n",
    "                                            max_tokens=max_tokens)\n",
    "    finish_reason = response['choices'][0]['finish_reason']\n",
    "    if finish_reason == 'length':\n",
    "        return 'length'\n",
    "    text = response['choices'][0]['message']['content']\n",
    "    completion_tokens = response['usage']['completion_tokens']\n",
    "    print(f\"OpenAI's response is {completion_tokens} tokens long\")\n",
    "    with open(file_path, 'w') as f:\n",
    "        f.write(text)"
   ]
  },
  {
   "cell_type": "code",
   "execution_count": 6,
   "id": "61a982a5",
   "metadata": {},
   "outputs": [],
   "source": [
    "def walk(d):\n",
    "    missing_descriptions = 0\n",
    "    if isinstance(d, dict):\n",
    "        for k,v in d.items():\n",
    "            if isinstance(v, list) or isinstance(v, dict):\n",
    "                missing_descriptions += walk(v)\n",
    "            else:\n",
    "                if k == 'description' and not v:\n",
    "                    missing_descriptions += 1\n",
    "    else:\n",
    "        for v in d:\n",
    "            if isinstance(v, list) or isinstance(v, dict):\n",
    "                missing_descriptions += walk(v)\n",
    "    return missing_descriptions\n",
    "                \n",
    "filled_in = False\n",
    "\n",
    "dirs_to_walk = ['../documentation'\n",
    "for root, dirs, files in os.walk('../documentation'):\n",
    "    for file in files:\n",
    "        if file.endswith('.yml'):\n",
    "            file_path = os.path.join(root,file)\n",
    "            with open(file_path, \"r\", encoding=\"utf-8\") as f:\n",
    "                doc_yaml = yaml.safe_load(f)\n",
    "            missing_descriptions = walk(doc_yaml)\n",
    "            if missing_descriptions >= 1:\n",
    "                print(f\"Working on {file}\")\n",
    "                try:\n",
    "                    resp = fill_in_description(file_path)\n",
    "                    if resp == \"length\":\n",
    "                        print(f\"{file_path}\\n  is too long! You will need to fill in manually or through the ChatGPT interface.\\n\\n\")\n",
    "                    else:\n",
    "                        print(f\"{file} successfully filled in!\\n\\n\")\n",
    "                except RateLimitError:\n",
    "                    print(\"Hit a rate limit error.\"\n",
    "                          \" Sleeping for 70 seconds then trying one more time.\")\n",
    "                    time.sleep(70)\n",
    "                    fill_in_description(file_path)\n",
    "                    print(f\"{file} successfully filled in!\\n\\n\")"
   ]
  }
 ],
 "metadata": {
  "kernelspec": {
   "display_name": "Python 3 (ipykernel)",
   "language": "python",
   "name": "python3"
  },
  "language_info": {
   "codemirror_mode": {
    "name": "ipython",
    "version": 3
   },
   "file_extension": ".py",
   "mimetype": "text/x-python",
   "name": "python",
   "nbconvert_exporter": "python",
   "pygments_lexer": "ipython3",
   "version": "3.11.3"
  }
 },
 "nbformat": 4,
 "nbformat_minor": 5
}
