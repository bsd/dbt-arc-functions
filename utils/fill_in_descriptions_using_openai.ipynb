{
 "cells": [
  {
   "cell_type": "markdown",
   "id": "9c95b59e",
   "metadata": {},
   "source": [
    "# How to use this notebook\n",
    "\n",
    "## Fill in all missing descriptions\n",
    "\n",
    "If you'd like to fill in all missing descriptions throughout this project:\n",
    "\n",
    "1. Replace \"YOUR OPENAI API SECRET HERE (do not commit this)\" two cells below this with your Open API secret key\n",
    "2. Run the whole notebook from start to finish.\n",
    "\n",
    "## Fill in missing descriptions for one file\n",
    "\n",
    "If you'd like to fill in the missing descriptions on a single file:\n",
    "\n",
    "1. Replace \"YOUR OPENAI API SECRET HERE (do not commit this)\" two cells below this with your Open API secret key\n",
    "2. In the cell below the cell that starts with `def fill_in_description(file_path):`, type `fill_in_description(THE_FILE_PATH_YOU_WANT_TO_UPDATE)`\n",
    "3. Run all cells but the last cell."
   ]
  },
  {
   "cell_type": "code",
   "execution_count": null,
   "id": "c8c2d1cf",
   "metadata": {},
   "outputs": [],
   "source": [
    "import os\n",
    "import yaml\n",
    "import time\n",
    "import openai\n",
    "import tiktoken\n",
    "\n",
    "from openai.error import RateLimitError"
   ]
  },
  {
   "cell_type": "code",
   "execution_count": null,
   "id": "03eeb4df",
   "metadata": {},
   "outputs": [],
   "source": [
    "openai.api_key = \"YOUR OPENAI API SECRET HERE (do not commit this)\""
   ]
  },
  {
   "cell_type": "code",
   "execution_count": null,
   "id": "7fea701a",
   "metadata": {},
   "outputs": [],
   "source": [
    "model = input('What model should I use? Options are: gpt-3.5-turbo, gpt-4, gpt-4-32k\\n each is more expensive than the last.\\n')"
   ]
  },
  {
   "cell_type": "code",
   "execution_count": null,
   "id": "8b78c2d9",
   "metadata": {},
   "outputs": [],
   "source": [
    "model_theoretical_max_tokens = {\n",
    "    'gpt-3.5-turbo': 4096,\n",
    "    'gpt-4': 8192,\n",
    "    'gpt-4-32k': 32768\n",
    "}"
   ]
  },
  {
   "cell_type": "code",
   "execution_count": null,
   "id": "fcf1f19c",
   "metadata": {},
   "outputs": [],
   "source": [
    "def fill_in_description(file_path):\n",
    "    with open(file_path) as f:\n",
    "        content = f.read()\n",
    "    prompt=f\"The following YAML has missing descriptions. Please fill in the missing descriptions and return only the YAML:\\n\\n{content}\"\n",
    "    encoding = tiktoken.encoding_for_model(model)\n",
    "    prompt_length = len(encoding.encode(prompt))\n",
    "    theoretical_max_tokens = model_theoretical_max_tokens[model] \n",
    "    practical_max_tokens = model_theoretical_max_tokens[model] - prompt_length\n",
    "    print(f\"file is {prompt_length} tokens long\")\n",
    "    if prompt_length * 2 > practical_max_tokens:\n",
    "        return 'length'\n",
    "    max_tokens = prompt_length * 2\n",
    "    response = openai.ChatCompletion.create(model=model,\n",
    "                                            messages=[\n",
    "                                                {\"role\": \"user\",\n",
    "                                                 \"content\": prompt}],\n",
    "                                            max_tokens=max_tokens)\n",
    "    finish_reason = response['choices'][0]['finish_reason']\n",
    "    if finish_reason == 'length':\n",
    "        return 'length'\n",
    "    text = response['choices'][0]['message']['content']\n",
    "    completion_tokens = response['usage']['completion_tokens']\n",
    "    print(f\"OpenAI's response is {completion_tokens} tokens long\")\n",
    "    with open(file_path, 'w') as f:\n",
    "        f.write(text)"
   ]
  },
  {
   "cell_type": "code",
   "execution_count": null,
   "id": "a46ac2b4",
   "metadata": {},
   "outputs": [],
   "source": []
  },
  {
   "cell_type": "code",
   "execution_count": null,
   "id": "61a982a5",
   "metadata": {},
   "outputs": [],
   "source": [
    "def get_missing_descriptions(d):\n",
    "    missing_descriptions = 0\n",
    "    if isinstance(d, dict):\n",
    "        for k,v in d.items():\n",
    "            if isinstance(v, list) or isinstance(v, dict):\n",
    "                missing_descriptions += get_missing_descriptions(v)\n",
    "            else:\n",
    "                if k == 'description' and not v:\n",
    "                    missing_descriptions += 1\n",
    "    else:\n",
    "        for v in d:\n",
    "            if isinstance(v, list) or isinstance(v, dict):\n",
    "                missing_descriptions += get_missing_descriptions(v)\n",
    "    return missing_descriptions\n",
    "\n",
    "dirs_to_walk = ['../documentation',]\n",
    "for directory in dirs_to_walk:\n",
    "    for root, dirs, files in os.walk(directory):\n",
    "        for file in files:\n",
    "            if file.endswith('.yml'):\n",
    "                file_path = os.path.join(root,file)\n",
    "                with open(file_path, \"r\", encoding=\"utf-8\") as f:\n",
    "                    doc_yaml = yaml.safe_load(f)\n",
    "                missing_descriptions = get_missing_descriptions(doc_yaml)\n",
    "                if missing_descriptions >= 1:\n",
    "                    print(f\"Working on {file}\")\n",
    "                    try:\n",
    "                        resp = fill_in_description(file_path)\n",
    "                        if resp == \"length\":\n",
    "                            print(f\"{file_path}\\n  is too long! \"\n",
    "                                  \"You will need to fill in manually or through the ChatGPT interface.\\n\\n\")\n",
    "                        else:\n",
    "                            print(f\"{file} successfully filled in!\\n\\n\")\n",
    "                    except RateLimitError:\n",
    "                        print(\"Hit a rate limit error.\"\n",
    "                              \" Sleeping for 70 seconds then trying one more time.\")\n",
    "                        time.sleep(70)\n",
    "                        fill_in_description(file_path)\n",
    "                        print(f\"{file} successfully filled in!\\n\\n\")"
   ]
  }
 ],
 "metadata": {
  "kernelspec": {
   "display_name": "Python 3 (ipykernel)",
   "language": "python",
   "name": "python3"
  },
  "language_info": {
   "codemirror_mode": {
    "name": "ipython",
    "version": 3
   },
   "file_extension": ".py",
   "mimetype": "text/x-python",
   "name": "python",
   "nbconvert_exporter": "python",
   "pygments_lexer": "ipython3",
   "version": "3.8.12"
  }
 },
 "nbformat": 4,
 "nbformat_minor": 5
}
