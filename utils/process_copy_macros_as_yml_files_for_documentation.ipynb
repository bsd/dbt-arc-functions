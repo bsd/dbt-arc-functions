{
 "cells": [
  {
   "cell_type": "code",
   "execution_count": null,
   "metadata": {},
   "outputs": [],
   "source": [
    "import os\n",
    "import shutil"
   ]
  },
  {
   "cell_type": "code",
   "execution_count": null,
   "metadata": {},
   "outputs": [],
   "source": [
    "macros_dir = '/path/to/sql/files'\n",
    "docs_dir = '/path/to/yml/files'"
   ]
  },
  {
   "cell_type": "code",
   "execution_count": null,
   "metadata": {},
   "outputs": [],
   "source": [
    "# Iterate over all files in the source directory\n",
    "for filename in os.listdir(macros_dir):\n",
    "    if filename.endswith('.sql'):\n",
    "        # Create a new filename with a .yml extension\n",
    "        new_filename = f'{os.path.splitext(filename)[0]}.yml'\n",
    "\n",
    "        # Create a new empty file with the new filename in the destination directory\n",
    "        with open(os.path.join(docs_dir, new_filename), 'w'):\n",
    "            pass\n",
    "\n",
    "        # Copy the .sql file to the destination directory with the new filename and extension\n",
    "        shutil.copy2(os.path.join(macros_dir, filename),\n",
    "                     os.path.join(macros_dir, new_filename))"
   ]
  }
 ],
 "metadata": {
  "language_info": {
   "name": "python"
  },
  "orig_nbformat": 4
 },
 "nbformat": 4,
 "nbformat_minor": 2
}
